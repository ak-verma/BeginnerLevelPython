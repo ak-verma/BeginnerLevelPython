{
 "cells": [
  {
   "cell_type": "markdown",
   "metadata": {},
   "source": [
    "# Beginner level Python"
   ]
  },
  {
   "cell_type": "code",
   "execution_count": 38,
   "metadata": {},
   "outputs": [
    {
     "name": "stdout",
     "output_type": "stream",
     "text": [
      "hello world\n",
      "hello world\n",
      "Hello---how are you?\n",
      "hello how are you?\n",
      "('hulk', 'iron man', 'black widow')\n",
      "a  v\n",
      "\n",
      "\n",
      "a  v\n",
      "I love python\n",
      "I love python too\n",
      "helloworld\n",
      "Numpy is python's library\n"
     ]
    }
   ],
   "source": [
    "#here's a lot you can know about print statement\n",
    "print(\"hello world\")\n",
    "print('hello world')\n",
    "'hello world'\n",
    "\n",
    "\n",
    "#print with seperator\n",
    "print(\"Hello\", \"how are you?\", sep=\"---\")\n",
    "print('hello','how are you?', sep = None)\n",
    "\n",
    "#print a tuple\n",
    "x = ('hulk','iron man','black widow')\n",
    "print(x)\n",
    "\n",
    "#print a blank space and new line\n",
    "print('a','','v')\n",
    "print('\\n')\n",
    "print('a','','v')\n",
    "\n",
    "\n",
    "#to not get into a new line\n",
    "print('I love python\\n'.rstrip())\n",
    "print('I love python too')\n",
    "\n",
    "\n",
    "#string concatination\n",
    "print('hello'+'world')\n",
    "\n",
    "\n",
    "#printing an apostrophe\n",
    "print('Numpy is python\\'s library')"
   ]
  },
  {
   "cell_type": "code",
   "execution_count": 39,
   "metadata": {},
   "outputs": [
    {
     "name": "stdout",
     "output_type": "stream",
     "text": [
      "PYTHON\n",
      "python\n",
      "False\n"
     ]
    }
   ],
   "source": [
    "#checking/converting upper and lower\n",
    "x = 'Python'\n",
    "print(x.upper())\n",
    "print(x.lower())\n",
    "print(x.isupper())"
   ]
  },
  {
   "cell_type": "code",
   "execution_count": 40,
   "metadata": {},
   "outputs": [
    {
     "name": "stdout",
     "output_type": "stream",
     "text": [
      "6\n",
      "P n\n"
     ]
    }
   ],
   "source": [
    "#length of a string\n",
    "print(len(x))\n",
    "print(x[0],x[5])"
   ]
  },
  {
   "cell_type": "code",
   "execution_count": 41,
   "metadata": {},
   "outputs": [
    {
     "name": "stdout",
     "output_type": "stream",
     "text": [
      "Python\n",
      "C++\n"
     ]
    }
   ],
   "source": [
    "print(x.replace('Up','Elephant'))\n",
    "print(x.replace('Python','C++'))"
   ]
  },
  {
   "cell_type": "code",
   "execution_count": 42,
   "metadata": {},
   "outputs": [
    {
     "ename": "TypeError",
     "evalue": "unsupported operand type(s) for +: 'int' and 'str'",
     "output_type": "error",
     "traceback": [
      "\u001b[1;31m---------------------------------------------------------------------------\u001b[0m",
      "\u001b[1;31mTypeError\u001b[0m                                 Traceback (most recent call last)",
      "\u001b[1;32m<ipython-input-42-53e87cf8d080>\u001b[0m in \u001b[0;36m<module>\u001b[1;34m\u001b[0m\n\u001b[0;32m      1\u001b[0m \u001b[1;31m# to print a number with a string, convert number to string first\u001b[0m\u001b[1;33m\u001b[0m\u001b[1;33m\u001b[0m\u001b[1;33m\u001b[0m\u001b[0m\n\u001b[0;32m      2\u001b[0m \u001b[0mx\u001b[0m \u001b[1;33m=\u001b[0m \u001b[1;36m7\u001b[0m\u001b[1;33m\u001b[0m\u001b[1;33m\u001b[0m\u001b[0m\n\u001b[1;32m----> 3\u001b[1;33m \u001b[0mprint\u001b[0m\u001b[1;33m(\u001b[0m \u001b[0mx\u001b[0m \u001b[1;33m+\u001b[0m \u001b[1;34m'msd'\u001b[0m\u001b[1;33m)\u001b[0m\u001b[1;33m\u001b[0m\u001b[1;33m\u001b[0m\u001b[0m\n\u001b[0m",
      "\u001b[1;31mTypeError\u001b[0m: unsupported operand type(s) for +: 'int' and 'str'"
     ]
    }
   ],
   "source": [
    "# to print a number with a string, convert number to string first\n",
    "x = 7\n",
    "print( x + 'msd')"
   ]
  },
  {
   "cell_type": "code",
   "execution_count": 43,
   "metadata": {},
   "outputs": [
    {
     "name": "stdout",
     "output_type": "stream",
     "text": [
      "7msd\n"
     ]
    }
   ],
   "source": [
    "# to print a number with a string, convert number to string first\n",
    "x = 7\n",
    "print( str(x) + 'msd')"
   ]
  },
  {
   "cell_type": "code",
   "execution_count": 44,
   "metadata": {},
   "outputs": [
    {
     "name": "stdout",
     "output_type": "stream",
     "text": [
      "8\n",
      "1.1\n",
      "1\n",
      "2\n"
     ]
    },
    {
     "data": {
      "text/plain": [
       "7.8"
      ]
     },
     "execution_count": 44,
     "metadata": {},
     "output_type": "execute_result"
    }
   ],
   "source": [
    "#some inbuilt mathematical operations\n",
    "print(pow(2,3))\n",
    "print(max(1,1.1))\n",
    "print(min(1,1.1))\n",
    "print(round(2.1))\n",
    "abs(-7.8)"
   ]
  },
  {
   "cell_type": "code",
   "execution_count": 45,
   "metadata": {},
   "outputs": [
    {
     "name": "stdout",
     "output_type": "stream",
     "text": [
      "3\n",
      "4\n",
      "3.0\n"
     ]
    }
   ],
   "source": [
    "from math import *\n",
    "print(floor(3.7))\n",
    "print(ceil(3.7))\n",
    "print(sqrt(9))"
   ]
  },
  {
   "cell_type": "code",
   "execution_count": 46,
   "metadata": {},
   "outputs": [
    {
     "name": "stdout",
     "output_type": "stream",
     "text": [
      "enter anything bruh2\n",
      "well 2\n"
     ]
    }
   ],
   "source": [
    "##getting input from the user\n",
    "x = input('enter anything bruh')\n",
    "print('well' + ' ' + x)"
   ]
  },
  {
   "cell_type": "code",
   "execution_count": 47,
   "metadata": {},
   "outputs": [
    {
     "name": "stdout",
     "output_type": "stream",
     "text": [
      "enter a value to get the sqrt of it-->3\n",
      "1.7320508075688772\n"
     ]
    }
   ],
   "source": [
    "#input an integer\n",
    "x = int(input('enter a value to get the sqrt of it-->'))\n",
    "print(sqrt(x))"
   ]
  },
  {
   "cell_type": "code",
   "execution_count": 48,
   "metadata": {},
   "outputs": [
    {
     "name": "stdout",
     "output_type": "stream",
     "text": [
      "['akshay', 'verma', 'is', 'cool']\n"
     ]
    }
   ],
   "source": [
    "#lists\n",
    "friends = ['akshay','verma','is','cool']\n",
    "print(friends)"
   ]
  },
  {
   "cell_type": "code",
   "execution_count": 49,
   "metadata": {},
   "outputs": [
    {
     "name": "stdout",
     "output_type": "stream",
     "text": [
      "cool is verma akshay\n"
     ]
    }
   ],
   "source": [
    "#printing from behind\n",
    "print(friends[-1],friends[-2],friends[-3],friends[-4])"
   ]
  },
  {
   "cell_type": "code",
   "execution_count": 50,
   "metadata": {},
   "outputs": [
    {
     "data": {
      "text/plain": [
       "['akshay', 'verma', 'is']"
      ]
     },
     "execution_count": 50,
     "metadata": {},
     "output_type": "execute_result"
    }
   ],
   "source": [
    "# from 0 to 3-1 = 2\n",
    "friends[0:3]"
   ]
  },
  {
   "cell_type": "code",
   "execution_count": 51,
   "metadata": {},
   "outputs": [],
   "source": [
    "# modify list\n",
    "friends[1] = 'chiku'"
   ]
  },
  {
   "cell_type": "code",
   "execution_count": 52,
   "metadata": {},
   "outputs": [
    {
     "data": {
      "text/plain": [
       "['akshay', 'chiku', 'is']"
      ]
     },
     "execution_count": 52,
     "metadata": {},
     "output_type": "execute_result"
    }
   ],
   "source": [
    "friends[0:3]"
   ]
  },
  {
   "cell_type": "code",
   "execution_count": 53,
   "metadata": {},
   "outputs": [
    {
     "data": {
      "text/plain": [
       "['rob', 'bob', 'mob', 'tob', 2, 3, 4, 5]"
      ]
     },
     "execution_count": 53,
     "metadata": {},
     "output_type": "execute_result"
    }
   ],
   "source": [
    "#list functions\n",
    "lucky_numbers = [2,3,4,5]\n",
    "names = ['rob','bob','mob','tob']\n",
    "names.extend(lucky_numbers)\n",
    "names"
   ]
  },
  {
   "cell_type": "code",
   "execution_count": 54,
   "metadata": {},
   "outputs": [
    {
     "data": {
      "text/plain": [
       "['rob', 'bob', 'mob', 'tob', ['rob1', 'bob1', 'mob1', 'tob1']]"
      ]
     },
     "execution_count": 54,
     "metadata": {},
     "output_type": "execute_result"
    }
   ],
   "source": [
    "names1 = ['rob','bob','mob','tob']\n",
    "names2 = ['rob1','bob1','mob1','tob1']\n",
    "names1.append(names2)\n",
    "names1"
   ]
  },
  {
   "cell_type": "code",
   "execution_count": 55,
   "metadata": {},
   "outputs": [
    {
     "name": "stdout",
     "output_type": "stream",
     "text": [
      "bob\n",
      "['rob1', 'bob1', 'mob1', 'tob1']\n",
      "bob1\n"
     ]
    }
   ],
   "source": [
    "print(names1[1])\n",
    "print(names1[4])\n",
    "print(names1[4][1])"
   ]
  },
  {
   "cell_type": "code",
   "execution_count": 56,
   "metadata": {},
   "outputs": [
    {
     "data": {
      "text/plain": [
       "['rob', 'nob', 'bob', 'mob', 'tob', ['rob1', 'bob1', 'mob1', 'tob1']]"
      ]
     },
     "execution_count": 56,
     "metadata": {},
     "output_type": "execute_result"
    }
   ],
   "source": [
    "# new elemnet gets inserted in postion 1 and all the other elements\n",
    "# are pushed\n",
    "names1.insert(1,'nob')\n",
    "names1"
   ]
  },
  {
   "cell_type": "code",
   "execution_count": 57,
   "metadata": {},
   "outputs": [
    {
     "data": {
      "text/plain": [
       "'nob'"
      ]
     },
     "execution_count": 57,
     "metadata": {},
     "output_type": "execute_result"
    }
   ],
   "source": [
    "#pops a number\n",
    "names1.pop(1)"
   ]
  },
  {
   "cell_type": "code",
   "execution_count": 58,
   "metadata": {},
   "outputs": [
    {
     "data": {
      "text/plain": [
       "['rob', 'bob', 'mob', 'tob', ['rob1', 'bob1', 'mob1', 'tob1']]"
      ]
     },
     "execution_count": 58,
     "metadata": {},
     "output_type": "execute_result"
    }
   ],
   "source": [
    "names1"
   ]
  },
  {
   "cell_type": "code",
   "execution_count": 59,
   "metadata": {},
   "outputs": [
    {
     "data": {
      "text/plain": [
       "0"
      ]
     },
     "execution_count": 59,
     "metadata": {},
     "output_type": "execute_result"
    }
   ],
   "source": [
    "#checking the index of some element\n",
    "names.index('rob')"
   ]
  },
  {
   "cell_type": "code",
   "execution_count": 60,
   "metadata": {},
   "outputs": [],
   "source": [
    "names.insert(1,'rob')"
   ]
  },
  {
   "cell_type": "code",
   "execution_count": 61,
   "metadata": {},
   "outputs": [
    {
     "data": {
      "text/plain": [
       "2"
      ]
     },
     "execution_count": 61,
     "metadata": {},
     "output_type": "execute_result"
    }
   ],
   "source": [
    "names.count('rob')"
   ]
  },
  {
   "cell_type": "code",
   "execution_count": 62,
   "metadata": {},
   "outputs": [
    {
     "name": "stdout",
     "output_type": "stream",
     "text": [
      "[2, 3, 4, 5]\n"
     ]
    }
   ],
   "source": [
    "lucky_numbers.sort()\n",
    "print(lucky_numbers)"
   ]
  },
  {
   "cell_type": "code",
   "execution_count": 63,
   "metadata": {},
   "outputs": [
    {
     "data": {
      "text/plain": [
       "[5, 4, 3, 2]"
      ]
     },
     "execution_count": 63,
     "metadata": {},
     "output_type": "execute_result"
    }
   ],
   "source": [
    "lucky_numbers.reverse()\n",
    "lucky_numbers"
   ]
  },
  {
   "cell_type": "code",
   "execution_count": 64,
   "metadata": {},
   "outputs": [],
   "source": [
    "#tuples-- container in which we can store multiple info\n",
    "# difference from list -- \n",
    "# 1.we cant change, recreate etc but only accsess\n",
    "# 2. list -- [] and tupples -- ()"
   ]
  },
  {
   "cell_type": "code",
   "execution_count": 65,
   "metadata": {},
   "outputs": [
    {
     "name": "stdout",
     "output_type": "stream",
     "text": [
      "0\n",
      "2\n"
     ]
    }
   ],
   "source": [
    "cooordinates = (0,2)\n",
    "print(cooordinates[0])\n",
    "print(cooordinates[1])"
   ]
  },
  {
   "cell_type": "code",
   "execution_count": 66,
   "metadata": {},
   "outputs": [
    {
     "name": "stdout",
     "output_type": "stream",
     "text": [
      "2\n"
     ]
    }
   ],
   "source": [
    "#list of tupples\n",
    "cooordinates = [(0,2),(1,2),(2,3)]\n",
    "print(cooordinates[0][1])"
   ]
  },
  {
   "cell_type": "code",
   "execution_count": 67,
   "metadata": {},
   "outputs": [
    {
     "name": "stdout",
     "output_type": "stream",
     "text": [
      "hi\n"
     ]
    }
   ],
   "source": [
    "# functions in python\n",
    "def func():\n",
    "    print('hi')\n",
    "func()"
   ]
  },
  {
   "cell_type": "code",
   "execution_count": 68,
   "metadata": {},
   "outputs": [
    {
     "name": "stdout",
     "output_type": "stream",
     "text": [
      "hi steve\n"
     ]
    }
   ],
   "source": [
    "def func(name):\n",
    "    print('hi ' + name)\n",
    "func('steve')"
   ]
  },
  {
   "cell_type": "code",
   "execution_count": 69,
   "metadata": {},
   "outputs": [
    {
     "name": "stdout",
     "output_type": "stream",
     "text": [
      "hi james007\n"
     ]
    }
   ],
   "source": [
    "def func(name, age):\n",
    "    print('hi ' + name + age)\n",
    "func('james','007')"
   ]
  },
  {
   "cell_type": "code",
   "execution_count": 70,
   "metadata": {},
   "outputs": [
    {
     "name": "stdout",
     "output_type": "stream",
     "text": [
      "hi james007\n"
     ]
    }
   ],
   "source": [
    "def func(name, age):\n",
    "    print('hi ' + name + str(age))\n",
    "func('james','007')"
   ]
  },
  {
   "cell_type": "code",
   "execution_count": 71,
   "metadata": {},
   "outputs": [
    {
     "name": "stdout",
     "output_type": "stream",
     "text": [
      "8\n"
     ]
    }
   ],
   "source": [
    "def cube(a):\n",
    "    print(a**3)\n",
    "cube(2)"
   ]
  },
  {
   "cell_type": "code",
   "execution_count": 72,
   "metadata": {},
   "outputs": [
    {
     "data": {
      "text/plain": [
       "8"
      ]
     },
     "execution_count": 72,
     "metadata": {},
     "output_type": "execute_result"
    }
   ],
   "source": [
    "# return satatement\n",
    "def cube(a):\n",
    "    return a**3\n",
    "cube(2)"
   ]
  },
  {
   "cell_type": "code",
   "execution_count": 73,
   "metadata": {},
   "outputs": [],
   "source": [
    "# if elif else"
   ]
  },
  {
   "cell_type": "code",
   "execution_count": 74,
   "metadata": {},
   "outputs": [
    {
     "name": "stdout",
     "output_type": "stream",
     "text": [
      "4\n"
     ]
    }
   ],
   "source": [
    "def num(a,b,c):\n",
    "    if a>=b:\n",
    "        print(a)\n",
    "    elif b>=c:\n",
    "        print(b)\n",
    "    else:\n",
    "        print(c)\n",
    "num(2,3,4)  "
   ]
  },
  {
   "cell_type": "code",
   "execution_count": 75,
   "metadata": {},
   "outputs": [
    {
     "name": "stdout",
     "output_type": "stream",
     "text": [
      "enter a number2\n",
      "enter another number3\n",
      "enter a stringhi\n",
      "2 3.0 hi\n"
     ]
    }
   ],
   "source": [
    "# taking input\n",
    "\n",
    "a = int(input('enter a number'))\n",
    "b = float(input('enter another number'))\n",
    "c = str(input('enter a string'))\n",
    "\n",
    "print(a,b,c)"
   ]
  },
  {
   "cell_type": "code",
   "execution_count": 76,
   "metadata": {},
   "outputs": [],
   "source": [
    "# dictionaries\n",
    "# allows us to store info that could be key value pairs"
   ]
  },
  {
   "cell_type": "code",
   "execution_count": 77,
   "metadata": {},
   "outputs": [],
   "source": [
    "# if we want to convert some value to something else\n",
    "# like Jan --> January\n",
    "# and Mar --> March\n",
    "# key : value (should be unique)\n",
    "#duplicasies should not be there"
   ]
  },
  {
   "cell_type": "code",
   "execution_count": 78,
   "metadata": {},
   "outputs": [
    {
     "name": "stdout",
     "output_type": "stream",
     "text": [
      "January\n"
     ]
    },
    {
     "data": {
      "text/plain": [
       "'March'"
      ]
     },
     "execution_count": 78,
     "metadata": {},
     "output_type": "execute_result"
    }
   ],
   "source": [
    "monthConversion ={\n",
    "    \"Jan\" : \"January\",\n",
    "    \"Feb\"  : \"February\",\n",
    "    \"Mar\"  : \"March\" \n",
    "}\n",
    "\n",
    "print(monthConversion[\"Jan\"])\n",
    "monthConversion.get('Mar')"
   ]
  },
  {
   "cell_type": "code",
   "execution_count": 79,
   "metadata": {},
   "outputs": [
    {
     "name": "stdout",
     "output_type": "stream",
     "text": [
      "hello\n",
      "hello\n"
     ]
    }
   ],
   "source": [
    "#while loop\n",
    "n = 4\n",
    "while(n>2):\n",
    "    n = n-1\n",
    "    print('hello')"
   ]
  },
  {
   "cell_type": "code",
   "execution_count": 80,
   "metadata": {},
   "outputs": [
    {
     "name": "stdout",
     "output_type": "stream",
     "text": [
      "a 0\n",
      "k 1\n",
      "s 2\n",
      "h 3\n",
      "a 4\n",
      "y 5\n"
     ]
    }
   ],
   "source": [
    "#for loops\n",
    "i = 0\n",
    "for letter in \"akshay\":\n",
    "    print(letter,i)\n",
    "    i+=1"
   ]
  },
  {
   "cell_type": "code",
   "execution_count": 81,
   "metadata": {},
   "outputs": [
    {
     "name": "stdout",
     "output_type": "stream",
     "text": [
      "tom\n",
      "jake\n",
      "ryan\n"
     ]
    }
   ],
   "source": [
    "actors = ['tom', 'jake', 'ryan']\n",
    "for actor in actors:\n",
    "    print(actor)"
   ]
  },
  {
   "cell_type": "code",
   "execution_count": 82,
   "metadata": {},
   "outputs": [
    {
     "name": "stdout",
     "output_type": "stream",
     "text": [
      "0\n",
      "1\n",
      "2\n",
      "3\n",
      "4\n",
      "5\n",
      "6\n",
      "7\n",
      "8\n",
      "9\n"
     ]
    }
   ],
   "source": [
    "for index in range(10):\n",
    "    print(index)"
   ]
  },
  {
   "cell_type": "code",
   "execution_count": 83,
   "metadata": {},
   "outputs": [
    {
     "name": "stdout",
     "output_type": "stream",
     "text": [
      "3\n",
      "4\n",
      "5\n",
      "6\n",
      "7\n",
      "8\n",
      "9\n"
     ]
    }
   ],
   "source": [
    "#including 3 and excluding 10\n",
    "for index in range(3, 10):\n",
    "    print(index)"
   ]
  },
  {
   "cell_type": "code",
   "execution_count": 84,
   "metadata": {},
   "outputs": [
    {
     "name": "stdout",
     "output_type": "stream",
     "text": [
      "tom\n",
      "jake\n",
      "ryan\n"
     ]
    }
   ],
   "source": [
    "for index in range(len(actors)):\n",
    "    print(actors[index])"
   ]
  },
  {
   "cell_type": "code",
   "execution_count": 85,
   "metadata": {},
   "outputs": [
    {
     "data": {
      "text/plain": [
       "[[1, 2, 3], [4, 5, 6], [7, 8, 9], [0]]"
      ]
     },
     "execution_count": 85,
     "metadata": {},
     "output_type": "execute_result"
    }
   ],
   "source": [
    "#2-d lists and nested loops\n",
    "\n",
    "number_grid = [\n",
    "    [1, 2, 3],\n",
    "    [4, 5, 6],\n",
    "    [7, 8, 9],\n",
    "    [0]\n",
    "]\n",
    "number_grid"
   ]
  },
  {
   "cell_type": "code",
   "execution_count": 86,
   "metadata": {},
   "outputs": [
    {
     "data": {
      "text/plain": [
       "9"
      ]
     },
     "execution_count": 86,
     "metadata": {},
     "output_type": "execute_result"
    }
   ],
   "source": [
    "number_grid[2][2]"
   ]
  },
  {
   "cell_type": "code",
   "execution_count": 87,
   "metadata": {},
   "outputs": [
    {
     "name": "stdout",
     "output_type": "stream",
     "text": [
      "1\n",
      "2\n",
      "3\n",
      "4\n",
      "5\n",
      "6\n",
      "7\n",
      "8\n",
      "9\n",
      "0\n"
     ]
    }
   ],
   "source": [
    "for row in number_grid:\n",
    "    for col in row:\n",
    "        print(col)"
   ]
  },
  {
   "cell_type": "code",
   "execution_count": 90,
   "metadata": {},
   "outputs": [
    {
     "name": "stdout",
     "output_type": "stream",
     "text": [
      "enter a number  akshay\n",
      "you gotta enter an integer\n"
     ]
    }
   ],
   "source": [
    "# try except\n",
    "try:\n",
    "    num = int(input('enter a number  '))\n",
    "    print(num)\n",
    "except:\n",
    "    print('you gotta enter an integer')\n"
   ]
  },
  {
   "cell_type": "code",
   "execution_count": 96,
   "metadata": {},
   "outputs": [
    {
     "name": "stdout",
     "output_type": "stream",
     "text": [
      "enter a number  1\n",
      "enter another number0\n",
      "Zero Division Error\n"
     ]
    }
   ],
   "source": [
    "# try except-- any kind of errors will be caught\n",
    "try:\n",
    "    num1 = int(input('enter a number  '))\n",
    "    num2 = int(input('enter another number'))\n",
    "    print(num1/num2)\n",
    "except ValueError:\n",
    "    print('invalid input')\n",
    "except ZeroDivisionError:\n",
    "    print('Zero Division Error')"
   ]
  }
 ],
 "metadata": {
  "kernelspec": {
   "display_name": "Python 3",
   "language": "python",
   "name": "python3"
  },
  "language_info": {
   "codemirror_mode": {
    "name": "ipython",
    "version": 3
   },
   "file_extension": ".py",
   "mimetype": "text/x-python",
   "name": "python",
   "nbconvert_exporter": "python",
   "pygments_lexer": "ipython3",
   "version": "3.7.4"
  }
 },
 "nbformat": 4,
 "nbformat_minor": 2
}
